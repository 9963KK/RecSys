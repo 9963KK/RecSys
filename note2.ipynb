{
 "cells": [
  {
   "cell_type": "code",
   "execution_count": 2,
   "metadata": {},
   "outputs": [],
   "source": [
    "import numpy as np\n",
    "import pandas as pd\n",
    "\n",
    "\n",
    "def loadData():\n",
    "    items = {'A': {'Alice': 5.0, 'user1': 3.0, 'user2': 4.0, 'user3': 3.0, 'user4': 1.0},\n",
    "             'B': {'Alice': 3.0, 'user1': 1.0, 'user2': 3.0, 'user3': 3.0, 'user4': 5.0},\n",
    "             'C': {'Alice': 4.0, 'user1': 2.0, 'user2': 4.0, 'user3': 1.0, 'user4': 5.0},\n",
    "             'D': {'Alice': 4.0, 'user1': 3.0, 'user2': 3.0, 'user3': 5.0, 'user4': 2.0},\n",
    "             'E': {'user1': 3.0, 'user2': 5.0, 'user3': 4.0, 'user4': 1.0}\n",
    "             }\n",
    "    return items"
   ]
  },
  {
   "cell_type": "code",
   "execution_count": 3,
   "metadata": {},
   "outputs": [],
   "source": [
    "item_data = loadData()\n",
    "\n",
    "similarity_matrix = pd.DataFrame(\n",
    "    np.identity(len(item_data)),\n",
    "    index=item_data.keys(),\n",
    "    columns=item_data.keys(),\n",
    ")"
   ]
  },
  {
   "cell_type": "code",
   "execution_count": 4,
   "metadata": {},
   "outputs": [
    {
     "name": "stdout",
     "output_type": "stream",
     "text": [
      "          A         B         C         D         E\n",
      "A  1.000000 -0.476731 -0.123091  0.532181  0.969458\n",
      "B -0.476731  1.000000  0.645497 -0.310087 -0.478091\n",
      "C -0.123091  0.645497  1.000000 -0.720577 -0.427618\n",
      "D  0.532181 -0.310087 -0.720577  1.000000  0.581675\n",
      "E  0.969458 -0.478091 -0.427618  0.581675  1.000000\n"
     ]
    },
    {
     "name": "stderr",
     "output_type": "stream",
     "text": [
      "/var/folders/kq/0mpdrldn1_z3tn6plq0ltmdh0000gn/T/ipykernel_75230/1070740807.py:13: FutureWarning: ChainedAssignmentError: behaviour will change in pandas 3.0!\n",
      "You are setting values through chained assignment. Currently this works in certain cases, but when using Copy-on-Write (which will become the default behaviour in pandas 3.0) this will never work to update the original DataFrame or Series, because the intermediate object on which we are setting values will behave as a copy.\n",
      "A typical example is when you are setting values in a column of a DataFrame, like:\n",
      "\n",
      "df[\"col\"][row_indexer] = value\n",
      "\n",
      "Use `df.loc[row_indexer, \"col\"] = values` instead, to perform the assignment in a single step and ensure this keeps updating the original `df`.\n",
      "\n",
      "See the caveats in the documentation: https://pandas.pydata.org/pandas-docs/stable/user_guide/indexing.html#returning-a-view-versus-a-copy\n",
      "\n",
      "  similarity_matrix[i1][i2] = np.corrcoef(vec1, vec2)[0][1]\n"
     ]
    }
   ],
   "source": [
    "# 遍历每条物品-用户评分数据\n",
    "for i1, users1 in item_data.items():\n",
    "    for i2, users2 in item_data.items():\n",
    "        if i1 == i2:\n",
    "            continue\n",
    "        vec1, vec2 = [], []\n",
    "        for user, rating1 in users1.items():\n",
    "            rating2 = users2.get(user, -1)\n",
    "            if rating2 == -1:\n",
    "                continue\n",
    "            vec1.append(rating1)\n",
    "            vec2.append(rating2)\n",
    "        similarity_matrix[i1][i2] = np.corrcoef(vec1, vec2)[0][1]\n",
    "# 若存在没有的评分，则直接跳过\n",
    "\n",
    "print(similarity_matrix)"
   ]
  },
  {
   "cell_type": "code",
   "execution_count": 1,
   "metadata": {},
   "outputs": [],
   "source": [
    "# 权重改进，对热门物品进行处理，减小热门物品的贡献度\n",
    "# 同时需要减小活跃用户的贡献度\n"
   ]
  },
  {
   "cell_type": "code",
   "execution_count": null,
   "metadata": {},
   "outputs": [],
   "source": [
    "# swing算法 降低活跃用户的贡献度，同时用户购买兴趣差异越大，同时购买两件物品i和j的相似度越高\n",
    "\n",
    "from itertools import combinations\n",
    "import pandas as pd\n",
    "alpha = 0.5\n",
    "top_k = 20\n",
    "\n",
    "\n",
    "def load_data(train_path):\n",
    "    train_data = pd.read_csv(train_path, sep=\"\\t\", engine=\"python\", names=[\n",
    "                             \"userid\", \"itemid\", \"rate\"])  # 提取用户交互记录数据\n",
    "    print(train_data.head(3))\n",
    "    return train_data\n",
    "\n",
    "\n",
    "def get_uitems_iusers(train):\n",
    "    u_items = dict()\n",
    "    i_users = dict()\n",
    "    for index, row in train.iterrows():  # 处理用户交互记录\n",
    "        u_items.setdefault(row[\"userid\"], set())\n",
    "        i_users.setdefault(row[\"itemid\"], set())\n",
    "        u_items[row[\"userid\"]].add(row[\"itemid\"])  # 得到user交互过的所有item\n",
    "        i_users[row[\"itemid\"]].add(row[\"userid\"])  # 得到item交互过的所有user\n",
    "    print(\"使用的用户个数为：{}\".format(len(u_items)))\n",
    "    print(\"使用的item个数为：{}\".format(len(i_users)))\n",
    "    return u_items, i_users\n",
    "\n",
    "\n",
    "def swing_model(u_items, i_users):\n",
    "    # print([i for i in i_users.values()][:5])\n",
    "    # print([i for i in u_items.values()][:5])\n",
    "    item_pairs = list(combinations(i_users.keys(), 2))  # 全排列组合对\n",
    "    print(\"item pairs length：{}\".format(len(item_pairs)))\n",
    "    item_sim_dict = dict()\n",
    "    for (i, j) in item_pairs:\n",
    "        # item_i和item_j对应的user取交集后全排列 得到user对\n",
    "        user_pairs = list(combinations(i_users[i] & i_users[j], 2))\n",
    "        result = 0\n",
    "        for (u, v) in user_pairs:\n",
    "            result += 1 / \\\n",
    "                (alpha + list(u_items[u] & u_items[v]).__len__())  # 分数公式\n",
    "        if result != 0:\n",
    "            item_sim_dict.setdefault(i, dict())\n",
    "            item_sim_dict[i][j] = format(result, '.6f')\n",
    "    return item_sim_dict\n",
    "\n",
    "\n",
    "def save_item_sims(item_sim_dict, top_k, path):\n",
    "    new_item_sim_dict = dict()\n",
    "    try:\n",
    "        writer = open(path, 'w', encoding='utf-8')\n",
    "        for item, sim_items in item_sim_dict.items():\n",
    "            new_item_sim_dict.setdefault(item, dict())\n",
    "            new_item_sim_dict[item] = dict(sorted(sim_items.items(\n",
    "            ), key=lambda k: k[1], reverse=True)[:top_k])  # 排序取出 top_k个相似的item\n",
    "            writer.write('item_id:%d\\t%s\\n' % (item, new_item_sim_dict[item]))\n",
    "        print(\"SUCCESS: top_{} item saved\".format(top_k))\n",
    "    except Exception as e:\n",
    "        print(e.args)\n",
    "\n",
    "\n",
    "if __name__ == \"__main__\":\n",
    "    train_data_path = \"./ratings_final.txt\"\n",
    "    item_sim_save_path = \"./item_sim_dict.txt\"\n",
    "    top_k = 10  # 与item相似的前 k 个item\n",
    "    train = load_data(train_data_path)\n",
    "    u_items, i_users = get_uitems_iusers(train)\n",
    "    item_sim_dict = swing_model(u_items, i_users)\n",
    "    save_item_sims(item_sim_dict, top_k, item_sim_save_path)"
   ]
  }
 ],
 "metadata": {
  "kernelspec": {
   "display_name": "base",
   "language": "python",
   "name": "python3"
  },
  "language_info": {
   "codemirror_mode": {
    "name": "ipython",
    "version": 3
   },
   "file_extension": ".py",
   "mimetype": "text/x-python",
   "name": "python",
   "nbconvert_exporter": "python",
   "pygments_lexer": "ipython3",
   "version": "3.12.4"
  }
 },
 "nbformat": 4,
 "nbformat_minor": 2
}
